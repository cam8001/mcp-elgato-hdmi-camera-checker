{
 "cells": [
  {
   "cell_type": "markdown",
   "id": "f046dbcb",
   "metadata": {},
   "source": [
    "# Setting up Agentcore in a Jupyter Notebook\n",
    "\n",
    "Agentcore has basic support for Jupyter notebooks. Read about that here: https://aws.github.io/bedrock-agentcore-starter-toolkit/user-guide/runtime/notebook.html"
   ]
  },
  {
   "cell_type": "code",
   "execution_count": 1,
   "id": "1b263120",
   "metadata": {},
   "outputs": [],
   "source": [
    "# Import the notebook Runtime class\n",
    "from bedrock_agentcore_starter_toolkit.notebook import Runtime\n",
    "\n",
    "# Initialize\n",
    "runtime = Runtime()\n"
   ]
  },
  {
   "cell_type": "markdown",
   "id": "c6e6d4cb",
   "metadata": {},
   "source": [
    "Now we need to configure our client to use our upstream inference."
   ]
  },
  {
   "cell_type": "code",
   "execution_count": null,
   "id": "1eb8f904",
   "metadata": {},
   "outputs": [],
   "source": [
    "# Load in our agentcore config. Load the bedrock yaml:\n",
    "import yaml\n",
    "\n",
    "with open('.bedrock_agentcore.yaml', 'r') as file:\n",
    "    config = yaml.safe_load(file)\n",
    "\n",
    "# Now configure our client\n",
    "\n",
    "# Configure\n",
    "runtime.configure(\n",
    "    entrypoint=\"elgato_mcp.py\",\n",
    "    execution_role=config['agents']['elgato_mcp']['aws']['execution_role']\n",
    ")\n",
    "\n",
    "# Launch locally for testing\n",
    "runtime.launch(local=True)\n",
    "\n"
   ]
  },
  {
   "cell_type": "code",
   "execution_count": null,
   "id": "926d8c4a",
   "metadata": {},
   "outputs": [],
   "source": []
  }
 ],
 "metadata": {
  "kernelspec": {
   "display_name": "elgatomcp",
   "language": "python",
   "name": "python3"
  },
  "language_info": {
   "codemirror_mode": {
    "name": "ipython",
    "version": 3
   },
   "file_extension": ".py",
   "mimetype": "text/x-python",
   "name": "python",
   "nbconvert_exporter": "python",
   "pygments_lexer": "ipython3",
   "version": "3.12.3"
  }
 },
 "nbformat": 4,
 "nbformat_minor": 5
}
