{
 "cells": [
  {
   "cell_type": "markdown",
   "id": "f046dbcb",
   "metadata": {},
   "source": [
    "# Setting up Agentcore in a Jupyter Notebook\n",
    "\n",
    "Agentcore has basic support for Jupyter notebooks. Read about that here: https://aws.github.io/bedrock-agentcore-starter-toolkit/user-guide/runtime/notebook.html"
   ]
  },
  {
   "cell_type": "code",
   "execution_count": 1,
   "id": "1b263120",
   "metadata": {},
   "outputs": [],
   "source": [
    "# Import the notebook Runtime class\n",
    "from bedrock_agentcore_starter_toolkit.notebook import Runtime\n",
    "\n",
    "# Initialize\n",
    "runtime = Runtime()\n"
   ]
  },
  {
   "cell_type": "markdown",
   "id": "c6e6d4cb",
   "metadata": {},
   "source": [
    "Now we need to configure our client to use our upstream inference."
   ]
  },
  {
   "cell_type": "code",
   "execution_count": 7,
   "id": "1eb8f904",
   "metadata": {},
   "outputs": [
    {
     "name": "stderr",
     "output_type": "stream",
     "text": [
      "Entrypoint parsed: file=/home/cam/code/elgato-hdmi-camera-check/elgato_mcp.py, bedrock_agentcore_name=elgato_mcp\n",
      "Configuring BedrockAgentCore agent: elgato_mcp\n"
     ]
    },
    {
     "data": {
      "text/html": [
       "<pre style=\"white-space:pre;overflow-x:auto;line-height:normal;font-family:Menlo,'DejaVu Sans Mono',consolas,'Courier New',monospace\">\n",
       "<span style=\"color: #808000; text-decoration-color: #808000; font-weight: bold; text-decoration: underline\">⚠️  [WARNING] Platform mismatch: Current system is </span><span style=\"color: #008000; text-decoration-color: #008000; text-decoration: underline\">'linux/amd64'</span><span style=\"color: #808000; text-decoration-color: #808000; font-weight: bold; text-decoration: underline\"> but Bedrock AgentCore requires </span><span style=\"color: #008000; text-decoration-color: #008000; text-decoration: underline\">'linux/arm64'</span><span style=\"color: #808000; text-decoration-color: #808000; font-weight: bold; text-decoration: underline\">.</span>\n",
       "<span style=\"color: #808000; text-decoration-color: #808000; font-weight: bold; text-decoration: underline\">For deployment options and workarounds, see: </span>\n",
       "<span style=\"color: #0000ff; text-decoration-color: #0000ff; text-decoration: underline\">https://docs.aws.amazon.com/bedrock-agentcore/latest/devguide/getting-started-custom.html</span>\n",
       "\n",
       "</pre>\n"
      ],
      "text/plain": [
       "\n",
       "\u001b[1;4;33m⚠️  \u001b[0m\u001b[1;4;33m[\u001b[0m\u001b[1;4;33mWARNING\u001b[0m\u001b[1;4;33m]\u001b[0m\u001b[1;4;33m Platform mismatch: Current system is \u001b[0m\u001b[4;32m'linux/amd64'\u001b[0m\u001b[1;4;33m but Bedrock AgentCore requires \u001b[0m\u001b[4;32m'linux/arm64'\u001b[0m\u001b[1;4;33m.\u001b[0m\n",
       "\u001b[1;4;33mFor deployment options and workarounds, see: \u001b[0m\n",
       "\u001b[4;94mhttps://docs.aws.amazon.com/bedrock-agentcore/latest/devguide/getting-started-custom.html\u001b[0m\n",
       "\n"
      ]
     },
     "metadata": {},
     "output_type": "display_data"
    },
    {
     "name": "stderr",
     "output_type": "stream",
     "text": [
      "Generated Dockerfile: /home/cam/code/elgato-hdmi-camera-check/Dockerfile\n",
      "Generated .dockerignore: /home/cam/code/elgato-hdmi-camera-check/.dockerignore\n",
      "Keeping 'elgato_mcp' as default agent\n",
      "Bedrock AgentCore configured: /home/cam/code/elgato-hdmi-camera-check/.bedrock_agentcore.yaml\n",
      "🏠 Local mode: building and running locally\n",
      "   • Build and run container locally\n",
      "   • Requires Docker/Finch/Podman to be installed\n",
      "   • Perfect for development and testing\n",
      "Launching Bedrock AgentCore agent 'elgato_mcp' locally\n",
      "Build: #8 0.269 exec /bin/sh: exec format error\n",
      "Build: #8 ERROR: process \"/bin/sh -c uv pip install -r requirements.txt\" did not complete successfully: exit code: 255\n",
      "Build: 0.269 exec /bin/sh: exec format error\n",
      "Build: ERROR: failed to build: failed to solve: process \"/bin/sh -c uv pip install -r requirements.txt\" did not complete successfully: exit code: 255\n"
     ]
    },
    {
     "ename": "RuntimeError",
     "evalue": "Docker/Finch/Podman is required for local mode.\n\nOptions to fix this:\n1. Install Docker/Finch/Podman and try again\n2. Use CodeBuild mode instead: runtime.launch() - no Docker required\n\nOriginal error: Build failed: ------ Dockerfile:11 --------------------    9 |     COPY requirements.txt requirements.txt   10 |     # Install from requirements file   11 | >>> RUN uv pip install -r requirements.txt   12 |   13 | -------------------- ERROR: failed to build: failed to solve: process \"/bin/sh -c uv pip install -r requirements.txt\" did not complete successfully: exit code: 255",
     "output_type": "error",
     "traceback": [
      "\u001b[31m---------------------------------------------------------------------------\u001b[39m",
      "\u001b[31mRuntimeError\u001b[39m                              Traceback (most recent call last)",
      "\u001b[36mFile \u001b[39m\u001b[32m~/code/elgato-hdmi-camera-check/elgatomcp/lib/python3.12/site-packages/bedrock_agentcore_starter_toolkit/notebook/runtime/bedrock_agentcore.py:188\u001b[39m, in \u001b[36mRuntime.launch\u001b[39m\u001b[34m(self, local, local_build, auto_update_on_conflict, env_vars)\u001b[39m\n\u001b[32m    187\u001b[39m \u001b[38;5;28;01mtry\u001b[39;00m:\n\u001b[32m--> \u001b[39m\u001b[32m188\u001b[39m     result = \u001b[43mlaunch_bedrock_agentcore\u001b[49m\u001b[43m(\u001b[49m\n\u001b[32m    189\u001b[39m \u001b[43m        \u001b[49m\u001b[38;5;28;43mself\u001b[39;49m\u001b[43m.\u001b[49m\u001b[43m_config_path\u001b[49m\u001b[43m,\u001b[49m\n\u001b[32m    190\u001b[39m \u001b[43m        \u001b[49m\u001b[43mlocal\u001b[49m\u001b[43m=\u001b[49m\u001b[43mlocal\u001b[49m\u001b[43m,\u001b[49m\n\u001b[32m    191\u001b[39m \u001b[43m        \u001b[49m\u001b[43muse_codebuild\u001b[49m\u001b[43m=\u001b[49m\u001b[43muse_codebuild\u001b[49m\u001b[43m,\u001b[49m\n\u001b[32m    192\u001b[39m \u001b[43m        \u001b[49m\u001b[43mauto_update_on_conflict\u001b[49m\u001b[43m=\u001b[49m\u001b[43mauto_update_on_conflict\u001b[49m\u001b[43m,\u001b[49m\n\u001b[32m    193\u001b[39m \u001b[43m        \u001b[49m\u001b[43menv_vars\u001b[49m\u001b[43m=\u001b[49m\u001b[43menv_vars\u001b[49m\u001b[43m,\u001b[49m\n\u001b[32m    194\u001b[39m \u001b[43m    \u001b[49m\u001b[43m)\u001b[49m\n\u001b[32m    195\u001b[39m \u001b[38;5;28;01mexcept\u001b[39;00m \u001b[38;5;167;01mRuntimeError\u001b[39;00m \u001b[38;5;28;01mas\u001b[39;00m e:\n\u001b[32m    196\u001b[39m     \u001b[38;5;66;03m# Enhance Docker-related error messages\u001b[39;00m\n",
      "\u001b[36mFile \u001b[39m\u001b[32m~/code/elgato-hdmi-camera-check/elgatomcp/lib/python3.12/site-packages/bedrock_agentcore_starter_toolkit/operations/runtime/launch.py:327\u001b[39m, in \u001b[36mlaunch_bedrock_agentcore\u001b[39m\u001b[34m(config_path, agent_name, local, use_codebuild, env_vars, auto_update_on_conflict)\u001b[39m\n\u001b[32m    326\u001b[39m     \u001b[38;5;28;01melse\u001b[39;00m:\n\u001b[32m--> \u001b[39m\u001b[32m327\u001b[39m         \u001b[38;5;28;01mraise\u001b[39;00m \u001b[38;5;167;01mRuntimeError\u001b[39;00m(\u001b[33mf\u001b[39m\u001b[33m\"\u001b[39m\u001b[33mBuild failed: \u001b[39m\u001b[38;5;132;01m{\u001b[39;00merror_message\u001b[38;5;132;01m}\u001b[39;00m\u001b[33m\"\u001b[39m)\n\u001b[32m    329\u001b[39m log.info(\u001b[33m\"\u001b[39m\u001b[33mDocker image built: \u001b[39m\u001b[38;5;132;01m%s\u001b[39;00m\u001b[33m\"\u001b[39m, tag)\n",
      "\u001b[31mRuntimeError\u001b[39m: Build failed: ------ Dockerfile:11 --------------------    9 |     COPY requirements.txt requirements.txt   10 |     # Install from requirements file   11 | >>> RUN uv pip install -r requirements.txt   12 |   13 | -------------------- ERROR: failed to build: failed to solve: process \"/bin/sh -c uv pip install -r requirements.txt\" did not complete successfully: exit code: 255",
      "\nThe above exception was the direct cause of the following exception:\n",
      "\u001b[31mRuntimeError\u001b[39m                              Traceback (most recent call last)",
      "\u001b[36mCell\u001b[39m\u001b[36m \u001b[39m\u001b[32mIn[7]\u001b[39m\u001b[32m, line 16\u001b[39m\n\u001b[32m     10\u001b[39m runtime.configure(\n\u001b[32m     11\u001b[39m     entrypoint=\u001b[33m\"\u001b[39m\u001b[33melgato_mcp.py\u001b[39m\u001b[33m\"\u001b[39m,\n\u001b[32m     12\u001b[39m     execution_role=config[\u001b[33m'\u001b[39m\u001b[33magents\u001b[39m\u001b[33m'\u001b[39m][\u001b[33m'\u001b[39m\u001b[33melgato_mcp\u001b[39m\u001b[33m'\u001b[39m][\u001b[33m'\u001b[39m\u001b[33maws\u001b[39m\u001b[33m'\u001b[39m][\u001b[33m'\u001b[39m\u001b[33mexecution_role\u001b[39m\u001b[33m'\u001b[39m]\n\u001b[32m     13\u001b[39m )\n\u001b[32m     15\u001b[39m \u001b[38;5;66;03m# Launch locally for testing\u001b[39;00m\n\u001b[32m---> \u001b[39m\u001b[32m16\u001b[39m \u001b[43mruntime\u001b[49m\u001b[43m.\u001b[49m\u001b[43mlaunch\u001b[49m\u001b[43m(\u001b[49m\u001b[43mlocal\u001b[49m\u001b[43m=\u001b[49m\u001b[38;5;28;43;01mTrue\u001b[39;49;00m\u001b[43m)\u001b[49m\n",
      "\u001b[36mFile \u001b[39m\u001b[32m~/code/elgato-hdmi-camera-check/elgatomcp/lib/python3.12/site-packages/bedrock_agentcore_starter_toolkit/notebook/runtime/bedrock_agentcore.py:207\u001b[39m, in \u001b[36mRuntime.launch\u001b[39m\u001b[34m(self, local, local_build, auto_update_on_conflict, env_vars)\u001b[39m\n\u001b[32m    205\u001b[39m             enhanced_msg += \u001b[33m\"\u001b[39m\u001b[33m2. Use CodeBuild mode instead: runtime.launch() - no Docker required\u001b[39m\u001b[38;5;130;01m\\n\u001b[39;00m\u001b[38;5;130;01m\\n\u001b[39;00m\u001b[33m\"\u001b[39m\n\u001b[32m    206\u001b[39m             enhanced_msg += \u001b[33mf\u001b[39m\u001b[33m\"\u001b[39m\u001b[33mOriginal error: \u001b[39m\u001b[38;5;132;01m{\u001b[39;00merror_msg\u001b[38;5;132;01m}\u001b[39;00m\u001b[33m\"\u001b[39m\n\u001b[32m--> \u001b[39m\u001b[32m207\u001b[39m             \u001b[38;5;28;01mraise\u001b[39;00m \u001b[38;5;167;01mRuntimeError\u001b[39;00m(enhanced_msg) \u001b[38;5;28;01mfrom\u001b[39;00m\u001b[38;5;250m \u001b[39m\u001b[34;01me\u001b[39;00m\n\u001b[32m    208\u001b[39m     \u001b[38;5;28;01mraise\u001b[39;00m\n\u001b[32m    210\u001b[39m \u001b[38;5;28;01mif\u001b[39;00m result.mode == \u001b[33m\"\u001b[39m\u001b[33mcloud\u001b[39m\u001b[33m\"\u001b[39m:\n",
      "\u001b[31mRuntimeError\u001b[39m: Docker/Finch/Podman is required for local mode.\n\nOptions to fix this:\n1. Install Docker/Finch/Podman and try again\n2. Use CodeBuild mode instead: runtime.launch() - no Docker required\n\nOriginal error: Build failed: ------ Dockerfile:11 --------------------    9 |     COPY requirements.txt requirements.txt   10 |     # Install from requirements file   11 | >>> RUN uv pip install -r requirements.txt   12 |   13 | -------------------- ERROR: failed to build: failed to solve: process \"/bin/sh -c uv pip install -r requirements.txt\" did not complete successfully: exit code: 255"
     ]
    }
   ],
   "source": [
    "# Load in our agentcore config. Load the bedrock yaml:\n",
    "import yaml\n",
    "\n",
    "with open('.bedrock_agentcore.yaml', 'r') as file:\n",
    "    config = yaml.safe_load(file)\n",
    "\n",
    "# Now configure our client\n",
    "\n",
    "# Configure\n",
    "runtime.configure(\n",
    "    entrypoint=\"elgato_mcp.py\",\n",
    "    execution_role=config['agents']['elgato_mcp']['aws']['execution_role']\n",
    ")\n",
    "\n",
    "# Launch locally for testing\n",
    "runtime.launch(local=True)\n",
    "\n"
   ]
  },
  {
   "cell_type": "code",
   "execution_count": null,
   "id": "926d8c4a",
   "metadata": {},
   "outputs": [],
   "source": []
  }
 ],
 "metadata": {
  "kernelspec": {
   "display_name": "elgatomcp",
   "language": "python",
   "name": "python3"
  },
  "language_info": {
   "codemirror_mode": {
    "name": "ipython",
    "version": 3
   },
   "file_extension": ".py",
   "mimetype": "text/x-python",
   "name": "python",
   "nbconvert_exporter": "python",
   "pygments_lexer": "ipython3",
   "version": "3.12.3"
  }
 },
 "nbformat": 4,
 "nbformat_minor": 5
}
